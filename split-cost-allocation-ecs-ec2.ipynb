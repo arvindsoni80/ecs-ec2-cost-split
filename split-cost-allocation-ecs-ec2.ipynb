{
 "cells": [
  {
   "cell_type": "code",
   "execution_count": null,
   "id": "ddc43d1a",
   "metadata": {},
   "outputs": [],
   "source": [
    "import pandas as pd\n",
    "import numpy as np\n",
    "import matplotlib.pyplot as plt\n",
    "from matplotlib import ticker\n",
    "from IPython.display import display, HTML"
   ]
  },
  {
   "cell_type": "code",
   "execution_count": null,
   "id": "7ac00fde",
   "metadata": {},
   "outputs": [],
   "source": [
    "split_cost_csv_file=\"split-cost-allocation.csv\"\n",
    "\n",
    "# columns in the CUR csv file\n",
    "account_id = \"lineItem/UsageAccountId\"\n",
    "region = \"product/region\" \n",
    "product = \"product/ProductName\"\n",
    "lineitem = \"lineItem/Operation\"\n",
    "ec2_id = \"splitLineItem/ParentResourceId\"\n",
    "split_cost = \"splitLineItem/SplitCost\"\n",
    "split_unused_cost = \"splitLineItem/UnusedCost\"\n",
    "ecs_service_name = \"resourceTags/aws:ecs:serviceName\"\n",
    "ecs_task_id = \"lineItem/ResourceId\"\n",
    "usage_hour = \"lineItem/UsageStartDate\"\n",
    "usage_type = \"lineItem/UsageType\"\n",
    "reservation = \"splitLineItem/ReservedUsage\"\n",
    "actual = \"splitLineItem/ActualUsage\"\n",
    "# usage type is CPU - USE2-ECS-EC2-vCPU-Hours or Memory - USE2-ECS-EC2-GB-Hours \n",
    "\n",
    "# values of interest, change these as needed \n",
    "\n",
    "account_id_val = XXX\n",
    "region_val = \"us-east-2\"\n",
    "product_val = \"Amazon Elastic Container Service\"\n",
    "lineitem_val = \"ECSTask-EC2\"\n",
    "usage_type_cpu = \"vCPU-Hours\"\n",
    "usage_type_mem = \"GB-Hours\""
   ]
  },
  {
   "cell_type": "code",
   "execution_count": null,
   "id": "9d3febfa",
   "metadata": {},
   "outputs": [],
   "source": [
    "# read csv and check its size as quick test for successful read\n",
    "csv_df = pd.read_csv(split_cost_csv_file)\n",
    "print(csv_df.shape)"
   ]
  },
  {
   "cell_type": "code",
   "execution_count": null,
   "id": "2427e221",
   "metadata": {
    "scrolled": true
   },
   "outputs": [],
   "source": [
    "# filter for the ECS EC2 data, for specific region, and specific account\n",
    "\n",
    "\n",
    "df = csv_df[(csv_df[product] == product_val)&\\\n",
    "            (csv_df[lineitem] == lineitem_val)&\\\n",
    "            (csv_df[region] == region_val)&\\\n",
    "            (csv_df[account_id] == account_id_val)]\n",
    "# remove other columns that we don't care\n",
    "df = df[[account_id, region, product, lineitem, ec2_id, split_cost, \\\n",
    "         split_unused_cost, ecs_service_name, ecs_task_id, usage_hour, usage_type, reservation, actual]]\n",
    "print(df.shape)\n"
   ]
  },
  {
   "cell_type": "code",
   "execution_count": null,
   "id": "4a723df5",
   "metadata": {},
   "outputs": [],
   "source": [
    "display(HTML(df.head(10).to_html()))"
   ]
  },
  {
   "cell_type": "code",
   "execution_count": null,
   "id": "856019c9",
   "metadata": {},
   "outputs": [],
   "source": [
    "service_names = df[ecs_service_name].dropna().unique()\n",
    "usage_types = df[usage_type].dropna().unique()\n",
    "ec2s = df[ec2_id].dropna().unique()\n",
    "print(ec2s)\n",
    "print(usage_types)\n",
    "print(service_names)"
   ]
  },
  {
   "cell_type": "code",
   "execution_count": null,
   "id": "6abc82f0",
   "metadata": {},
   "outputs": [],
   "source": [
    "pivot = pd.pivot_table(df, values=[split_cost, split_unused_cost], index=usage_hour,\n",
    "                       columns=ecs_service_name, aggfunc=np.sum)\n",
    "plt.rcParams[\"figure.figsize\"] = [20, 8]\n",
    "ax = pivot.plot( kind='bar', stacked=True, title='Hourly Cost by Service')\n",
    "# formatting\n",
    "ax.set(xlabel='Usage Hour', ylabel='Hourly Cost')\n",
    "ax.legend(title='ECS Service')\n",
    "# removes the top and right lines from the figure to make it less boxy\n",
    "for spine in ['top', 'right']:\n",
    "    ax.spines[spine].set_visible(False)"
   ]
  },
  {
   "cell_type": "code",
   "execution_count": null,
   "id": "850f97aa",
   "metadata": {},
   "outputs": [],
   "source": [
    "pivot_df = pd.pivot_table(df, values=[split_cost, split_unused_cost], index=ec2_id,\n",
    "                       columns=ecs_service_name, aggfunc=np.sum)\n",
    "display(HTML(pivot_df.to_html()))"
   ]
  },
  {
   "cell_type": "code",
   "execution_count": null,
   "id": "1c9bfc3b",
   "metadata": {},
   "outputs": [],
   "source": [
    "for svc_name in service_names:\n",
    "    for ut in usage_types:\n",
    "        plt_df = df[(df[ecs_service_name]==svc_name)&(df[usage_type]==ut)]\n",
    "        plt.rcParams[\"figure.figsize\"] = [20, 8]\n",
    "        plt.rcParams[\"figure.autolayout\"] = True\n",
    "        plt.scatter(x=plt_df[usage_hour], y=plt_df[actual], label=\"Actual Usage\", color=\"green\")\n",
    "        plt.scatter(x=plt_df[usage_hour], y=plt_df[reservation], label=\"Reserved Usage\", color=\"blue\", marker=\"_\")\n",
    "        plt.xticks(rotation=270)\n",
    "        plt.legend(fontsize=16)\n",
    "        plt.title(svc_name+\"::\"+ut, fontsize=16)\n",
    "        plt.show()"
   ]
  },
  {
   "cell_type": "code",
   "execution_count": null,
   "id": "350b04c1",
   "metadata": {
    "scrolled": true
   },
   "outputs": [],
   "source": [
    "# get the sum of split cost and unused cost grouped by ecs service name\n",
    "# you must have enabled ECS Managed Tag, set Propagate Tag to SERVICE, \n",
    "# and activated these ECS managed tags for use in cost report\n",
    "\n",
    "#total_cost_by_service = df.groupby(ecs_service_name)[split_cost, split_unused_cost].sum()\n",
    "\n",
    "pivot_df = pd.pivot_table(df, values=[split_cost, split_unused_cost], index=ecs_service_name,\n",
    "                       columns=usage_type, aggfunc=np.sum)\n",
    "display(HTML(pivot_df.to_html()))"
   ]
  },
  {
   "cell_type": "code",
   "execution_count": null,
   "id": "57a537e1",
   "metadata": {},
   "outputs": [],
   "source": [
    "\n",
    "for svc_name in service_names:\n",
    "    for ut in usage_types:\n",
    "        plt_df = df[(df[ecs_service_name]==svc_name)&(df[usage_type]==ut)]\n",
    "        plt.rcParams[\"figure.figsize\"] = [20, 8]\n",
    "        plt.rcParams[\"figure.autolayout\"] = True\n",
    "        plt.scatter(x=plt_df[usage_hour], y=plt_df[split_cost], label=\"Split Cost\", color=\"green\")\n",
    "        plt.scatter(x=plt_df[usage_hour], y=plt_df[split_unused_cost], label=\"Split Unused Cost\", color=\"blue\", marker=\"_\")\n",
    "        plt.xticks(rotation=270)\n",
    "        plt.legend()\n",
    "        plt.title(svc_name+\"::\"+ut, fontsize=16)\n",
    "        plt.show()\n",
    "    "
   ]
  },
  {
   "cell_type": "code",
   "execution_count": null,
   "id": "9e78b879",
   "metadata": {},
   "outputs": [],
   "source": []
  }
 ],
 "metadata": {
  "kernelspec": {
   "display_name": "Python 3 (ipykernel)",
   "language": "python",
   "name": "python3"
  },
  "language_info": {
   "codemirror_mode": {
    "name": "ipython",
    "version": 3
   },
   "file_extension": ".py",
   "mimetype": "text/x-python",
   "name": "python",
   "nbconvert_exporter": "python",
   "pygments_lexer": "ipython3",
   "version": "3.10.11"
  }
 },
 "nbformat": 4,
 "nbformat_minor": 5
}
