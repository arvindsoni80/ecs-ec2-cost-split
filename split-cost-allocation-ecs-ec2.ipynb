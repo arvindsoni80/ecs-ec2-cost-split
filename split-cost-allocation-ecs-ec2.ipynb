{
 "cells": [
  {
   "cell_type": "code",
   "execution_count": null,
   "id": "4be2bffb",
   "metadata": {},
   "outputs": [],
   "source": [
    "import pandas as pd\n",
    "import numpy as np\n",
    "import matplotlib.pyplot as plt\n",
    "from IPython.display import display, HTML"
   ]
  },
  {
   "cell_type": "code",
   "execution_count": null,
   "id": "b380bb9d",
   "metadata": {},
   "outputs": [],
   "source": [
    "split_cost_csv_file=\"split-cost-allocation.csv\"\n",
    "\n",
    "# columns in the CUR csv file\n",
    "account_id = \"lineItem/UsageAccountId\"\n",
    "region = \"product/region\" \n",
    "product = \"product/ProductName\"\n",
    "lineitem = \"lineItem/Operation\"\n",
    "ec2_id = \"splitLineItem/ParentResourceId\"\n",
    "split_cost = \"splitLineItem/SplitCost\"\n",
    "split_unused_cost = \"splitLineItem/UnusedCost\"\n",
    "ecs_service_name = \"resourceTags/aws:ecs:serviceName\"\n",
    "ecs_task_id = \"lineItem/ResourceId\"\n",
    "usage_hour = \"lineItem/UsageStartDate\"\n",
    "usage_type = \"lineItem/UsageType\"\n",
    "# usage type is CPU - USE2-ECS-EC2-vCPU-Hours or Memory - USE2-ECS-EC2-GB-Hours \n",
    "\n",
    "# values of interest, change these as needed \n",
    "\n",
    "account_id_val = XXXXXXX\n",
    "region_val = \"us-east-2\"\n",
    "product_val = \"Amazon Elastic Container Service\"\n",
    "lineitem_val = \"ECSTask-EC2\"\n",
    "usage_type_cpu = \"vCPU-Hours\"\n",
    "usage_type_mem = \"GB-Hours\""
   ]
  },
  {
   "cell_type": "code",
   "execution_count": null,
   "id": "678934a3",
   "metadata": {},
   "outputs": [],
   "source": [
    "# read csv and check its size as quick test for successful read\n",
    "csv_df = pd.read_csv(split_cost_csv_file)\n",
    "print(csv_df.shape)"
   ]
  },
  {
   "cell_type": "code",
   "execution_count": null,
   "id": "42482030",
   "metadata": {
    "scrolled": true
   },
   "outputs": [],
   "source": [
    "# filter for the ECS EC2 data, for specific region, and specific account\n",
    "\n",
    "\n",
    "df = csv_df[(csv_df[product] == product_val)&\\\n",
    "            (csv_df[lineitem] == lineitem_val)&\\\n",
    "            (csv_df[region] == region_val)&\\\n",
    "            (csv_df[account_id] == account_id_val)]\n",
    "# remove other columns that we don't care\n",
    "df = df[[account_id, region, product, lineitem, ec2_id, split_cost, \\\n",
    "         split_unused_cost, ecs_service_name, ecs_task_id, usage_hour, usage_type]]\n",
    "print(df.shape)\n"
   ]
  },
  {
   "cell_type": "code",
   "execution_count": null,
   "id": "1d3ab622",
   "metadata": {},
   "outputs": [],
   "source": [
    "display(HTML(df.head(10).to_html()))"
   ]
  },
  {
   "cell_type": "code",
   "execution_count": null,
   "id": "0079373f",
   "metadata": {
    "scrolled": true
   },
   "outputs": [],
   "source": [
    "# get the sum of split cost and unused cost grouped by ecs service name\n",
    "# you must have enabled ECS Managed Tag, set Propagate Tag to SERVICE, \n",
    "# and activated these ECS managed tags for use in cost report\n",
    "\n",
    "#total_cost_by_service = df.groupby(ecs_service_name)[split_cost, split_unused_cost].sum()\n",
    "\n",
    "pivot_df = pd.pivot_table(df, values=[split_cost, split_unused_cost], index=ecs_service_name,\n",
    "                       columns=usage_type, aggfunc=np.sum)\n",
    "display(HTML(pivot_df.to_html()))"
   ]
  },
  {
   "cell_type": "code",
   "execution_count": null,
   "id": "bd24d2a0",
   "metadata": {},
   "outputs": [],
   "source": [
    "service_names = df[ecs_service_name].dropna().unique()\n",
    "usage_types = df[usage_type].dropna().unique()\n",
    "print(usage_types)"
   ]
  },
  {
   "cell_type": "code",
   "execution_count": null,
   "id": "e91263a8",
   "metadata": {},
   "outputs": [],
   "source": [
    "\n",
    "for svc_name in service_names:\n",
    "    for ut in usage_types:\n",
    "        plt_df = df[(df[ecs_service_name]==svc_name)&(df[usage_type]==ut)]\n",
    "        plt.rcParams[\"figure.figsize\"] = [12, 6]\n",
    "        plt.rcParams[\"figure.autolayout\"] = True\n",
    "        plt.scatter(x=plt_df[usage_hour], y=plt_df[split_cost], label=\"Split Cost\", color=\"green\")\n",
    "        plt.scatter(x=plt_df[usage_hour], y=plt_df[split_unused_cost], label=\"Split Unused Cost\", color=\"blue\")\n",
    "        plt.xticks(rotation=270)\n",
    "        plt.legend()\n",
    "        plt.title(svc_name+\"::\"+ut, fontsize=16)\n",
    "        plt.show()\n",
    "    "
   ]
  },
  {
   "cell_type": "code",
   "execution_count": null,
   "id": "e04c73d4",
   "metadata": {},
   "outputs": [],
   "source": []
  }
 ],
 "metadata": {
  "kernelspec": {
   "display_name": "Python 3 (ipykernel)",
   "language": "python",
   "name": "python3"
  },
  "language_info": {
   "codemirror_mode": {
    "name": "ipython",
    "version": 3
   },
   "file_extension": ".py",
   "mimetype": "text/x-python",
   "name": "python",
   "nbconvert_exporter": "python",
   "pygments_lexer": "ipython3",
   "version": "3.10.11"
  }
 },
 "nbformat": 4,
 "nbformat_minor": 5
}
